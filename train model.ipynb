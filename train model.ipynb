{
 "cells": [
  {
   "cell_type": "code",
   "execution_count": null,
   "id": "d4c50113-72e8-423c-b043-3801a5cbaedd",
   "metadata": {},
   "outputs": [],
   "source": [
    "import numpy as np\n",
    "import pandas as pd\n",
    "import cv2 as cv\n",
    "import matplotlib.pyplot as plt\n",
    "import os"
   ]
  },
  {
   "cell_type": "code",
   "execution_count": null,
   "id": "29dbdcf8-11fc-4bc3-a3b2-0e0747c20a7f",
   "metadata": {},
   "outputs": [],
   "source": [
    "df = pd.read_csv('labels.csv')\n",
    "df"
   ]
  },
  {
   "cell_type": "code",
   "execution_count": null,
   "id": "f8d07b85-e821-49fa-a43b-f559bd5d7a9f",
   "metadata": {},
   "outputs": [],
   "source": [
    "import xml.etree.ElementTree as xet"
   ]
  },
  {
   "cell_type": "code",
   "execution_count": null,
   "id": "26830af2-8a60-47d9-9cb4-a2188c48a5ad",
   "metadata": {},
   "outputs": [],
   "source": [
    "filename = df['filepath'][428]\n",
    "filename"
   ]
  },
  {
   "cell_type": "code",
   "execution_count": null,
   "id": "e7146632-6c0a-4019-ad22-c1a5cc8d6def",
   "metadata": {},
   "outputs": [],
   "source": [
    "def getfilename(filename):\n",
    "\n",
    "    filenameimage = xet.parse(filename).getroot().find('filename').text\n",
    "    filepathimage = os.path.join('./cars',filenameimage)\n",
    "    return filepathimage"
   ]
  },
  {
   "cell_type": "code",
   "execution_count": null,
   "id": "29262cf9-99b4-43ee-9406-cf51967638eb",
   "metadata": {},
   "outputs": [],
   "source": [
    "getfilename(filename)"
   ]
  },
  {
   "cell_type": "code",
   "execution_count": null,
   "id": "414ea56c-8b9d-4e2e-90b3-ce0f17f2d2c7",
   "metadata": {},
   "outputs": [],
   "source": [
    "imagepath = list(df['filepath'].apply(getfilename))\n"
   ]
  },
  {
   "cell_type": "code",
   "execution_count": null,
   "id": "05133585-e3fb-4f83-bedb-aed9fa99f095",
   "metadata": {},
   "outputs": [],
   "source": [
    "filepath = imagepath[0]\n",
    "filepath"
   ]
  },
  {
   "cell_type": "code",
   "execution_count": null,
   "id": "e8dcc9b2-b282-464a-8e06-f31d81db314e",
   "metadata": {},
   "outputs": [],
   "source": [
    "img= cv.imread(filepath)\n",
    "cv.namedWindow('example',cv.WINDOW_NORMAL)\n",
    "cv.imshow('example',img)\n",
    "cv.waitKey(0)\n",
    "cv.destroyAllWindows()\n"
   ]
  },
  {
   "cell_type": "code",
   "execution_count": null,
   "id": "ef31a507-0927-4cdb-af83-5c840dbacb95",
   "metadata": {},
   "outputs": [],
   "source": [
    "cv.rectangle(img,(226,125),(419,173),(0,225,0),3)\n",
    "cv.namedWindow('example',cv.WINDOW_NORMAL)\n",
    "cv.imshow('example',img)\n",
    "cv.waitKey(0)\n",
    "cv.destroyAllWindows()"
   ]
  },
  {
   "cell_type": "code",
   "execution_count": null,
   "id": "0d02e1da-9c6d-42d2-9518-bf72803c11cc",
   "metadata": {},
   "outputs": [],
   "source": [
    "#data preprocessing\n",
    "from sklearn.model_selection import train_test_split\n",
    "from tensorflow.keras.preprocessing.image import load_img, img_to_array"
   ]
  },
  {
   "cell_type": "code",
   "execution_count": null,
   "id": "15743e77-384f-4e22-aa12-3db6f78ae639",
   "metadata": {},
   "outputs": [],
   "source": [
    "labels = df.iloc[:,1:].values\n",
    "labels[1]"
   ]
  },
  {
   "cell_type": "code",
   "execution_count": null,
   "id": "f3ed1ae3-fa59-4a83-a0ee-c71830ac67ca",
   "metadata": {},
   "outputs": [],
   "source": [
    "data = []\n",
    "output = []\n",
    "\n",
    "for ind in range (len(imagepath)):\n",
    "    ind = 0\n",
    "    image = imagepath[0]\n",
    "    imgarr = cv.imread(image)\n",
    "    h,w,d = imgarr.shape\n",
    "    loadimage = load_img(image,target_size=(224,224))\n",
    "    loadimagearr=img_to_array(loadimage)\n",
    "    normloadimagearr = loadimagearr/255.0\n",
    "    xmin,xmax,ymin,ymax = labels[ind]\n",
    "    nxmin,nxmax = xmin/w, xmax/w\n",
    "    nymin,nymax = ymin/h,ymax/h\n",
    "    labelnorm = (nxmin,nxmax,nymin,nymax)\n",
    "    data.append(normloadimagearr)\n",
    "    output.append(labelnorm)"
   ]
  },
  {
   "cell_type": "code",
   "execution_count": null,
   "id": "ade77342-bfbf-448c-949e-f9c484f7af87",
   "metadata": {},
   "outputs": [],
   "source": [
    "x = np.array(data,dtype=np.float32)\n",
    "y = np.array(output,dtype=np.float32)"
   ]
  },
  {
   "cell_type": "code",
   "execution_count": null,
   "id": "52f43572-a8ba-4e25-a152-9626094da5a6",
   "metadata": {},
   "outputs": [],
   "source": [
    "x.shape,y.shape"
   ]
  },
  {
   "cell_type": "code",
   "execution_count": null,
   "id": "08070c10-8135-49d8-8912-14a05f30e24c",
   "metadata": {},
   "outputs": [],
   "source": [
    "xtrain,xtest,ytrain,ytest = train_test_split(x,y,train_size=0.8,random_state=0)\n",
    "xtrain.shape,xtest.shape,ytrain.shape,ytest.shape"
   ]
  },
  {
   "cell_type": "markdown",
   "id": "e050b6ac-47db-4e62-8d95-2b51e3fca8d1",
   "metadata": {},
   "source": [
    "###############################Deep learning model##############################################"
   ]
  },
  {
   "cell_type": "code",
   "execution_count": null,
   "id": "3e70a50e-052f-4d81-a494-b198e5e61a5f",
   "metadata": {},
   "outputs": [],
   "source": [
    "from tensorflow.keras.applications import MobileNetV2, InceptionResNetV2\n",
    "from tensorflow.keras.layers import Dense, Dropout, Flatten, Input\n",
    "from tensorflow.keras.models import Model\n",
    "import tensorflow as tf"
   ]
  },
  {
   "cell_type": "code",
   "execution_count": null,
   "id": "1ea12285-404b-4d28-8cad-42a3fcde91d4",
   "metadata": {},
   "outputs": [],
   "source": [
    "inceptionresnet = InceptionResNetV2(weights=\"imagenet\",include_top=False,input_shape=(224,224,3))\n",
    "inceptionresnet.trainable=False\n",
    "headmodel = inceptionresnet.output\n",
    "headmodel = Flatten()(headmodel)\n",
    "headmodel = Dense(500,activation=\"relu\")(headmodel)\n",
    "headmodel = Dense(250,activation=\"relu\")(headmodel)\n",
    "headmodel = Dense(4,activation='sigmoid')(headmodel)\n",
    "model = Model(inputs=inceptionresnet.input,outputs=headmodel)"
   ]
  },
  {
   "cell_type": "code",
   "execution_count": null,
   "id": "1496c2ca-e32b-4854-acd9-c212e427d0cc",
   "metadata": {},
   "outputs": [],
   "source": [
    "model.compile(loss='mse',optimizer=tf.keras.optimizers.Adam(learning_rate=1e-4))\n",
    "model.summary()"
   ]
  },
  {
   "cell_type": "code",
   "execution_count": null,
   "id": "e97c57e7-46bf-433d-b7f6-8972cde0c85b",
   "metadata": {},
   "outputs": [],
   "source": [
    "from tensorflow.keras.callbacks import TensorBoard"
   ]
  },
  {
   "cell_type": "code",
   "execution_count": null,
   "id": "40033c94-13f3-488f-b3a6-b326a6e7f6d1",
   "metadata": {},
   "outputs": [],
   "source": [
    "tfb = TensorBoard('object_detection')"
   ]
  },
  {
   "cell_type": "code",
   "execution_count": null,
   "id": "88d95cec-6e68-494c-b22c-52af521ae3cf",
   "metadata": {},
   "outputs": [],
   "source": [
    "history = model.fit(x=xtrain,y=ytrain,batch_size=5,epochs=50,\n",
    "                   validation_data=(xtest,ytest),callbacks=[tfb])"
   ]
  },
  {
   "cell_type": "code",
   "execution_count": null,
   "id": "03c3a128-dbd9-4c18-9056-84c3bb54d787",
   "metadata": {},
   "outputs": [],
   "source": [
    "#to save the model in folder named models\n",
    "model.save('./models/objectdetection.h5')"
   ]
  }
 ],
 "metadata": {
  "kernelspec": {
   "display_name": "Python 3 (ipykernel)",
   "language": "python",
   "name": "python3"
  },
  "language_info": {
   "codemirror_mode": {
    "name": "ipython",
    "version": 3
   },
   "file_extension": ".py",
   "mimetype": "text/x-python",
   "name": "python",
   "nbconvert_exporter": "python",
   "pygments_lexer": "ipython3",
   "version": "3.9.5"
  }
 },
 "nbformat": 4,
 "nbformat_minor": 5
}
